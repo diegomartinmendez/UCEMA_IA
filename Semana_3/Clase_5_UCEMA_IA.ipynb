{
  "nbformat": 4,
  "nbformat_minor": 0,
  "metadata": {
    "colab": {
      "provenance": [],
      "toc_visible": true
    },
    "kernelspec": {
      "name": "python3",
      "display_name": "Python 3"
    },
    "language_info": {
      "name": "python"
    }
  },
  "cells": [
    {
      "cell_type": "markdown",
      "source": [
        "##  Redes Neuronales\n",
        "\n",
        "\n",
        "\n",
        "\n"
      ],
      "metadata": {
        "id": "Jtxwoy_B51ll"
      }
    },
    {
      "cell_type": "markdown",
      "source": [
        "##Hola mundo!\n"
      ],
      "metadata": {
        "id": "cJ19TmUu35E9"
      }
    },
    {
      "cell_type": "code",
      "source": [
        "def km_to_millas(km):\n",
        "  return km * 0.6"
      ],
      "metadata": {
        "id": "9FDNoQ8v66aA"
      },
      "execution_count": null,
      "outputs": []
    },
    {
      "cell_type": "code",
      "source": [
        "input_kms=list(range(10))"
      ],
      "metadata": {
        "id": "bK9uFbBvW-W6"
      },
      "execution_count": null,
      "outputs": []
    },
    {
      "cell_type": "code",
      "source": [
        "output_millas = [km_to_millas(n) for n in range(10)]\n",
        "output_millas"
      ],
      "metadata": {
        "colab": {
          "base_uri": "https://localhost:8080/"
        },
        "id": "bldYmCGiWpMa",
        "outputId": "660e17ab-454c-4dde-9cc3-29bd4b637873"
      },
      "execution_count": null,
      "outputs": [
        {
          "output_type": "execute_result",
          "data": {
            "text/plain": [
              "[0.0,\n",
              " 0.6,\n",
              " 1.2,\n",
              " 1.7999999999999998,\n",
              " 2.4,\n",
              " 3.0,\n",
              " 3.5999999999999996,\n",
              " 4.2,\n",
              " 4.8,\n",
              " 5.3999999999999995]"
            ]
          },
          "metadata": {},
          "execution_count": 22
        }
      ]
    },
    {
      "cell_type": "markdown",
      "source": [
        "Caso de uso: conversor de grados Celsius a Farenheit"
      ],
      "metadata": {
        "id": "XIAdzUps7Av-"
      }
    },
    {
      "cell_type": "code",
      "source": [
        "### Caso Base funcion en python con el algoritmo de equivalencia\n",
        "\n",
        "def celsius_to_fahrenheit(celsius):\n",
        "    fahrenheit = (celsius * 9/5) + 32\n",
        "    return fahrenheit\n",
        "\n",
        "# Ejemplo de uso\n",
        "celsius = 25\n",
        "fahrenheit = celsius_to_fahrenheit(celsius)\n",
        "print(f\"{celsius} grados Celsius es igual a {fahrenheit} grados Fahrenheit.\")\n",
        "\n",
        "### Ahora quiero crear un array de valores que luego voy a reservar para usar en la FNN\n",
        "\n",
        "input = list(range(1,11,1))\n",
        "output = []\n",
        "for n in input:\n",
        "  output.append(celsius_to_fahrenheit(n))\n",
        "print(input)\n",
        "print(output)"
      ],
      "metadata": {
        "colab": {
          "base_uri": "https://localhost:8080/"
        },
        "id": "EjeOvsZM7WbZ",
        "outputId": "ec585905-fd05-40ab-9c1c-6e4395bd2471"
      },
      "execution_count": null,
      "outputs": [
        {
          "output_type": "stream",
          "name": "stdout",
          "text": [
            "25 grados Celsius es igual a 77.0 grados Fahrenheit.\n",
            "[1, 2, 3, 4, 5, 6, 7, 8, 9, 10]\n",
            "[33.8, 35.6, 37.4, 39.2, 41.0, 42.8, 44.6, 46.4, 48.2, 50.0]\n"
          ]
        }
      ]
    },
    {
      "cell_type": "code",
      "source": [
        "celsius_to_fahrenheit(34)\n"
      ],
      "metadata": {
        "colab": {
          "base_uri": "https://localhost:8080/"
        },
        "id": "FBtmYMelSxWk",
        "outputId": "d690987b-45a5-442a-cabf-3e5ad14392b4"
      },
      "execution_count": null,
      "outputs": [
        {
          "output_type": "execute_result",
          "data": {
            "text/plain": [
              "93.2"
            ]
          },
          "metadata": {},
          "execution_count": 14
        }
      ]
    },
    {
      "cell_type": "code",
      "source": [
        "import numpy as np\n",
        "import tensorflow as tf\n",
        "\n",
        "# Definimos los datos de entrenamiento: grados Celsius y su equivalente en grados Fahrenheit.\n",
        "celsius = np.array([-40, -10, 0, 8, 15, 22, 38], dtype=float)\n",
        "fahrenheit = np.array([-40, 14, 32, 46.4, 59, 71.6, 100.4], dtype=float)\n",
        "\n",
        "# Define la red neuronal con una sola neurona.\n",
        "layer =  tf.keras.layers.Dense(units=1, input_shape=[1])\n",
        "model = tf.keras.Sequential(layer)\n",
        "\n",
        "\n",
        "# Compilando la red.\n",
        "model.compile(optimizer=tf.keras.optimizers.Adam(learning_rate=0.2), loss='mean_squared_error')\n",
        "\n",
        "# La entrenamos\n",
        "model.fit(celsius, fahrenheit, epochs=600)\n",
        "\n",
        "# usamos la red neuronal entrenada para hacer predicciones.\n",
        "celsius_new = np.array([100, 20, 30], dtype=float)\n",
        "fahrenheit_pred = model.predict(celsius_new)\n",
        "print(\"Predicciones en Fahrenheit:\", fahrenheit_pred)\n"
      ],
      "metadata": {
        "id": "lz_1FPqa7Gjz"
      },
      "execution_count": null,
      "outputs": []
    },
    {
      "cell_type": "markdown",
      "source": [
        "Explicacion parte por parte de esta línea de código en Python:\n",
        "\n",
        "```\n",
        "keras.Sequential([\n",
        "    keras.layers.Dense(units=1, input_shape=[1])\n",
        "```\n",
        "\n",
        "1. **keras.Sequential**: Esto crea un modelo secuencial en Keras, que es una forma de construir redes neuronales. Un modelo secuencial es apropiado para una pila simple de capas donde cada capa tiene exactamente un tensor de entrada y un tensor de salida.\n",
        "\n",
        "2. **[ ]**: Estos corchetes indican que estamos pasando una lista de capas a nuestro modelo secuencial. En este caso, solo tenemos una capa en la lista, pero podríamos agregar más capas si fuera necesario.\n",
        "\n",
        "3. **keras.layers.Dense**: Esto crea una capa densamente conectada, también conocida como capa completamente conectada. En una capa densa, cada neurona está conectada a todas las neuronas de la capa anterior.\n",
        "\n",
        "4. **units=1**: Esto especifica que nuestra capa densa tendrá una sola neurona. La palabra \"units\" se refiere a la cantidad de neuronas en la capa.\n",
        "\n",
        "5. **input_shape=[1]**: Esto especifica la forma de los datos de entrada que se espera que reciba esta capa. En este caso, estamos indicando que la capa recibirá datos con una única característica (un solo valor numérico por entrada). La razón por la que usamos una lista con un único elemento [1] es porque Keras espera que la forma de entrada sea especificada como una lista.\n",
        "\n",
        "En resumen, esta línea de código crea un modelo secuencial de Keras con una sola capa densa que contiene una sola neurona y espera recibir datos con una sola característica. Esto es consistente con el objetivo de crear una red neuronal de una sola neurona para convertir grados Celsius a Fahrenheit."
      ],
      "metadata": {
        "id": "-oT7HQ1C8JwJ"
      }
    },
    {
      "cell_type": "markdown",
      "source": [
        "Vamos a poner a prueba el resultado"
      ],
      "metadata": {
        "id": "uunFQoDv9ra_"
      }
    },
    {
      "cell_type": "code",
      "source": [
        "model.predict(np.array([34], dtype=float))"
      ],
      "metadata": {
        "colab": {
          "base_uri": "https://localhost:8080/"
        },
        "id": "zkmC6XfB9uDx",
        "outputId": "fa5133c8-c30c-4846-a7dd-081de41bbab4"
      },
      "execution_count": null,
      "outputs": [
        {
          "output_type": "stream",
          "name": "stdout",
          "text": [
            "1/1 [==============================] - 0s 110ms/step\n"
          ]
        },
        {
          "output_type": "execute_result",
          "data": {
            "text/plain": [
              "array([[93.1971]], dtype=float32)"
            ]
          },
          "metadata": {},
          "execution_count": 13
        }
      ]
    },
    {
      "cell_type": "markdown",
      "source": [
        "Veamos que peso y que sesgo definio la red"
      ],
      "metadata": {
        "id": "0if1sqGC9Oby"
      }
    },
    {
      "cell_type": "code",
      "source": [
        "# Obtén los pesos y sesgos de la capa.\n",
        "weights, biases = model.layers[0].get_weights()\n",
        "\n",
        "print(\"Peso:\", weights)\n",
        "print(\"Sesgo:\", biases)"
      ],
      "metadata": {
        "colab": {
          "base_uri": "https://localhost:8080/"
        },
        "id": "SiEummP08JXk",
        "outputId": "1de97086-2240-4af5-bd1d-43d016f0f0d7"
      },
      "execution_count": null,
      "outputs": [
        {
          "output_type": "stream",
          "name": "stdout",
          "text": [
            "Peso: [[1.8000145]]\n",
            "Sesgo: [31.996605]\n"
          ]
        }
      ]
    },
    {
      "cell_type": "markdown",
      "source": [
        "Una FNN (Feedforward Neural Network) es un tipo de red neuronal artificial en la que la información se transmite de manera unidireccional desde la entrada hasta la salida. A diferencia de las redes neuronales recurrentes (RNN), donde la información puede fluir en ciclos o bucles, en una FNN la información siempre se propaga hacia adelante.\n",
        "\n",
        "La estructura de una FNN incluye varias capas de nodos o neuronas:\n",
        "\n",
        "1. **Capa de entrada**: donde se ingresan los datos en la red. El número de nodos en esta capa generalmente corresponde al número de características en los datos de entrada.\n",
        "2. **Capas ocultas**: capas intermedias entre la entrada y la salida. Estas capas realizan transformaciones en los datos a medida que pasan a través de la red. Cada nodo en una capa oculta realiza una combinación lineal de las salidas de la capa anterior y luego aplica una función de activación no lineal.\n",
        "3. **Capa de salida**: donde se producen las predicciones o clasificaciones de la red. El número de nodos en esta capa corresponde al número de clases en un problema de clasificación o al número de valores que se están prediciendo en un problema de regresión.\n",
        "\n",
        "Las conexiones entre los nodos en una FNN se representan mediante pesos, que se ajustan durante el entrenamiento utilizando algoritmos de optimización como el descenso de gradiente. Además, cada nodo puede tener un sesgo que también se ajusta durante el entrenamiento.\n",
        "\n",
        "Una FNN es una de las arquitecturas más simples de redes neuronales y se utiliza a menudo en problemas de clasificación y regresión. Sin embargo, debido a su naturaleza de propagación hacia adelante, no son adecuadas para trabajar con datos secuenciales o datos con estructuras espaciales complejas. Para esos tipos de datos, se suelen utilizar redes neuronales recurrentes (RNN) o redes neuronales convolucionales (CNN)."
      ],
      "metadata": {
        "id": "DPD9WI21b3Hg"
      }
    },
    {
      "cell_type": "code",
      "source": [],
      "metadata": {
        "id": "tsA-QoB-7ja0"
      },
      "execution_count": null,
      "outputs": []
    },
    {
      "cell_type": "markdown",
      "source": [
        "##Los Datos a usar: MNIST"
      ],
      "metadata": {
        "id": "Bj-kiHK7c7b3"
      }
    },
    {
      "cell_type": "markdown",
      "source": [
        "\n",
        "```python\n",
        "import matplotlib.pyplot as plt\n",
        "import tensorflow as tf\n",
        "from tensorflow.keras.datasets import mnist\n",
        "\n",
        "# Cargar el conjunto de datos MNIST\n",
        "(train_images, train_labels), (test_images, test_labels) = mnist.load_data()\n",
        "\n",
        "# Visualizar las primeras 25 imágenes\n",
        "plt.figure(figsize=(10, 10))\n",
        "for i in range(25):\n",
        "    plt.subplot(5, 5, i+1)\n",
        "    plt.xticks([])\n",
        "    plt.yticks([])\n",
        "    plt.grid(False)\n",
        "    plt.imshow(train_images[i], cmap=plt.cm.binary)\n",
        "    plt.xlabel(str(train_labels[i]))\n",
        "plt.show()\n",
        "```\n",
        "\n",
        "Este código carga el conjunto de datos MNIST, que incluye imágenes de entrenamiento y etiquetas, y luego visualiza las primeras 25 imágenes en una cuadrícula 5x5. Las etiquetas correspondientes se muestran debajo de cada imagen.\n",
        "\n",
        "MNIST es considerado uno de los conjuntos de datos más básicos en el campo del aprendizaje automático de imágenes y es un punto de partida excelente para quienes están aprendiendo a trabajar con redes neuronales y clasificación de imágenes."
      ],
      "metadata": {
        "id": "w1ssHDhBdA08"
      }
    },
    {
      "cell_type": "code",
      "source": [
        "import matplotlib.pyplot as plt\n",
        "import tensorflow as tf\n",
        "from tensorflow.keras.datasets import mnist\n",
        "\n",
        "# Cargar el conjunto de datos MNIST\n",
        "(train_images, train_labels), (test_images, test_labels) = mnist.load_data()\n",
        "\n",
        "# Visualizar las primeras 25 imágenes\n",
        "plt.figure(figsize=(10, 10))\n",
        "for i in range(10):\n",
        "    plt.subplot(5, 5, i+1)\n",
        "    plt.xticks([])\n",
        "    plt.yticks([])\n",
        "    plt.grid(False)\n",
        "    plt.imshow(train_images[i], cmap=plt.cm.binary)\n",
        "    plt.xlabel(str(train_labels[i]))\n",
        "plt.show()"
      ],
      "metadata": {
        "colab": {
          "base_uri": "https://localhost:8080/",
          "height": 348
        },
        "id": "HGebzUr4yoTv",
        "outputId": "5cc6842f-ab56-40f0-92a3-356780664883"
      },
      "execution_count": null,
      "outputs": [
        {
          "output_type": "display_data",
          "data": {
            "text/plain": [
              "<Figure size 1000x1000 with 10 Axes>"
            ],
            "image/png": "[encoded data removed]"
          },
          "metadata": {}
        }
      ]
    },
    {
      "cell_type": "markdown",
      "source": [
        "##Redes Neuronales Recurrentes\n"
      ],
      "metadata": {
        "id": "WtIA1d33YmjC"
      }
    },
    {
      "cell_type": "markdown",
      "source": [
        "**Arquitectura de las RNN**\n",
        "\n",
        "**Introducción:**\n",
        "\n",
        "**1. Concepto Básico:**\n",
        "\n",
        "- Una RNN es un tipo de red neuronal que tiene \"memoria\". A diferencia de las redes neuronales tradicionales que procesan las entradas de manera independiente, las RNNs mantienen un estado que puede influir en la salida basándose en entradas anteriores.\n",
        "\n",
        "**2. Arquitectura:**\n",
        "\n",
        "- Visualicen una neurona tradicional. Ahora, en lugar de sólo enviar la salida hacia adelante, imagine que también envía esta salida hacia atrás para ser utilizada como entrada en el siguiente paso.\n",
        "\n",
        "- A este bucle se le llama \"conexión recurrente\". Debido a este bucle, una RNN puede recordar información anterior y está intrínsecamente diseñada para procesar secuencias.\n",
        "\n",
        "**3. Despliegue Temporal:**\n",
        "\n",
        "- Una forma de entender las RNNs es \"desplegándolas\" en el tiempo. Imaginen que cada paso en una secuencia es una capa diferente. Así, una secuencia de 5 pasos se vería como una red de 5 capas.\n",
        "\n",
        "- Cada \"capa\" comparte los mismos parámetros, por lo que la \"profundidad\" de la red no aumenta el número de parámetros.\n",
        "\n",
        "**4. Aplicaciones:**\n",
        "\n",
        "- Las RNN son útiles para tareas como:\n",
        "  - Predicción de series temporales.\n",
        "  - Generación de texto.\n",
        "  - Traducción automática.\n",
        "  - Reconocimiento de voz.\n",
        "\n",
        "**5. Problemas de las RNN Tradicionales:**\n",
        "\n",
        "- **Desvanecimiento del Gradiente:** A medida que la red se \"despliega\" más y más en el tiempo, los gradientes tienden a desvanecerse o explotar, dificultando el entrenamiento.\n",
        "\n",
        "- **Memoria a corto plazo:** Las RNNs tradicionales tienen dificultades para recordar información de muchos pasos atrás en la secuencia.\n",
        "\n",
        "**6. Soluciones y Variantes:**\n",
        "\n",
        "- **LSTM (Long Short-Term Memory):** Una variante de RNN diseñada específicamente para combatir el desvanecimiento del gradiente y mejorar la memoria a largo plazo. Tiene una estructura más compleja que permite \"decidir\" qué información retener y cuál descartar.\n",
        "\n",
        "- **GRU (Gated Recurrent Unit):** Otra variante que simplifica un poco la estructura de la LSTM y, en algunas tareas, funciona igual de bien o incluso mejor.\n",
        "\n",
        "**Conclusión:**\n",
        "\n",
        "Las RNNs representan una herramienta poderosa para el procesamiento de secuencias en inteligencia artificial. A pesar de sus desafíos, las soluciones y variantes modernas como LSTM y GRU han permitido avances increíbles en áreas como la generación de texto y la traducción automática.\n",
        "\n"
      ],
      "metadata": {
        "id": "-D2ZK9uDZF7I"
      }
    },
    {
      "cell_type": "markdown",
      "source": [
        "## clasificar imágenes del conjunto de datos MNIST con una RNN"
      ],
      "metadata": {
        "id": "vSLvawRPanh-"
      }
    },
    {
      "cell_type": "code",
      "source": [
        "import numpy as np\n",
        "import matplotlib.pyplot as plt\n",
        "import tensorflow as tf\n",
        "from tensorflow.keras.models import Sequential\n",
        "from tensorflow.keras.layers import SimpleRNN, Dense\n",
        "from tensorflow.keras.datasets import mnist\n",
        "from tensorflow.keras.utils import to_categorical\n",
        "\n",
        "# Carga y preprocesamiento de datos\n",
        "(train_images, train_labels), (test_images, test_labels) = mnist.load_data()\n",
        "train_images = train_images.astype('float32') / 255.0\n",
        "test_images = test_images.astype('float32') / 255.0\n",
        "train_labels = to_categorical(train_labels)\n",
        "test_labels = to_categorical(test_labels)\n",
        "\n",
        "# Creación de la arquitectura RNN\n",
        "model = Sequential()\n",
        "model.add(SimpleRNN(128, activation='relu', input_shape=(28, 28)))\n",
        "model.add(Dense(10, activation='softmax'))\n",
        "\n",
        "# Compilación y entrenamiento de la RNN\n",
        "model.compile(optimizer='adam', loss='categorical_crossentropy', metrics=['accuracy'])\n",
        "model.fit(train_images, train_labels, epochs=5, batch_size=64)\n",
        "\n",
        "# Evaluación de la RNN\n",
        "test_loss, test_acc = model.evaluate(test_images, test_labels)\n",
        "print('Test accuracy:', test_acc)\n",
        "\n",
        "# Visualizar las imágenes y las predicciones\n",
        "def visualize_predictions(images, labels, predictions):\n",
        "    plt.figure(figsize=(15, 15))\n",
        "    for i in range(25):\n",
        "        plt.subplot(5, 5, i+1)\n",
        "        plt.xticks([])\n",
        "        plt.yticks([])\n",
        "        plt.grid(False)\n",
        "        plt.imshow(images[i], cmap=plt.cm.binary)\n",
        "        true_label = np.argmax(labels[i])\n",
        "        predicted_label = np.argmax(predictions[i])\n",
        "        if true_label == predicted_label:\n",
        "            color = 'green'\n",
        "        else:\n",
        "            color = 'red'\n",
        "        plt.xlabel(f\"True: {true_label}, Pred: {predicted_label}\", color=color)\n",
        "    plt.show()\n",
        "\n",
        "# Predecir las etiquetas de las imágenes de prueba\n",
        "predictions = model.predict(test_images)\n",
        "\n",
        "# Visualizar las imágenes, las etiquetas verdaderas y las predicciones\n",
        "visualize_predictions(test_images, test_labels, predictions)\n"
      ],
      "metadata": {
        "colab": {
          "base_uri": "https://localhost:8080/",
          "height": 1000
        },
        "id": "mVu5y0r7a9gX",
        "outputId": "d10c43aa-5417-45ba-8e9a-475b3add76d6"
      },
      "execution_count": null,
      "outputs": [
        {
          "output_type": "stream",
          "name": "stdout",
          "text": [
            "Epoch 1/5\n",
            "938/938 [==============================] - 19s 18ms/step - loss: 0.4643 - accuracy: 0.8515\n",
            "Epoch 2/5\n",
            "938/938 [==============================] - 13s 14ms/step - loss: 0.1891 - accuracy: 0.9443\n",
            "Epoch 3/5\n",
            "938/938 [==============================] - 13s 13ms/step - loss: 0.1490 - accuracy: 0.9564\n",
            "Epoch 4/5\n",
            "938/938 [==============================] - 13s 14ms/step - loss: 0.1283 - accuracy: 0.9621\n",
            "Epoch 5/5\n",
            "938/938 [==============================] - 13s 14ms/step - loss: 0.1149 - accuracy: 0.9663\n",
            "313/313 [==============================] - 1s 3ms/step - loss: 0.1251 - accuracy: 0.9630\n",
            "Test accuracy: 0.9629999995231628\n",
            "313/313 [==============================] - 1s 3ms/step\n"
          ]
        },
        {
          "output_type": "display_data",
          "data": {
            "text/plain": [
              "<Figure size 1500x1500 with 25 Axes>"
            ],
            "image/png": "[encoded data removed]"
          },
          "metadata": {}
        }
      ]
    },
    {
      "cell_type": "code",
      "source": [
        " train_images[14][14]\n"
      ],
      "metadata": {
        "colab": {
          "base_uri": "https://localhost:8080/"
        },
        "id": "es1h_PXlg6RZ",
        "outputId": "0f406901-11b8-428b-d031-7951e530142b"
      },
      "execution_count": null,
      "outputs": [
        {
          "output_type": "execute_result",
          "data": {
            "text/plain": [
              "array([0.        , 0.        , 0.        , 0.        , 0.        ,\n",
              "       0.        , 0.        , 0.        , 0.        , 0.        ,\n",
              "       0.        , 0.        , 0.11372549, 1.        , 0.99607843,\n",
              "       0.42745098, 0.        , 0.        , 0.        , 0.        ,\n",
              "       0.        , 0.        , 0.        , 0.        , 0.        ,\n",
              "       0.        , 0.        , 0.        ], dtype=float32)"
            ]
          },
          "metadata": {},
          "execution_count": 33
        }
      ]
    },
    {
      "cell_type": "markdown",
      "source": [
        "##RNN vs FNN"
      ],
      "metadata": {
        "id": "I0iVSCjadluo"
      }
    },
    {
      "cell_type": "markdown",
      "source": [
        "Las redes neuronales recurrentes (RNN) y las redes neuronales de propagación hacia adelante (FNN) son dos tipos de arquitecturas de redes neuronales que se utilizan para resolver diferentes tipos de problemas de aprendizaje automático. A continuación, presentamos una comparación entre RNN y FNN basada en diversas características:\n",
        "\n",
        "1. **Flujo de información:**\n",
        "   - **RNN:** Las RNN tienen conexiones que se retroalimentan a sí mismas, lo que les permite mantener un estado o memoria a lo largo del tiempo. Esto les permite procesar secuencias de datos donde la información actual depende de la información previa.\n",
        "   - **FNN:** Las FNN tienen un flujo de información unidireccional desde la entrada hasta la salida, sin conexiones que se retroalimenten. No tienen memoria interna y tratan cada entrada de forma independiente.\n",
        "\n",
        "2. **Tipos de datos:**\n",
        "   - **RNN:** Son adecuadas para trabajar con datos secuenciales, como series temporales, texto, audio y video, donde el orden de los datos es importante y hay dependencias temporales.\n",
        "   - **FNN:** Son más adecuadas para trabajar con datos no secuenciales, como imágenes, donde las dependencias temporales no son relevantes.\n",
        "\n",
        "3. **Capacidad de modelado de dependencias temporales:**\n",
        "   - **RNN:** Pueden modelar dependencias temporales en los datos, lo que las hace útiles para tareas como análisis de sentimiento, traducción automática, reconocimiento de voz y predicción de series temporales.\n",
        "   - **FNN:** No pueden modelar dependencias temporales ya que tratan cada entrada de forma independiente.\n",
        "\n",
        "4. **Arquitectura y complejidad:**\n",
        "   - **RNN:** Tienen una arquitectura más compleja que incluye conexiones recurrentes que se retroalimentan a sí mismas. Esto las hace más difíciles de entrenar y más propensas a problemas como el desvanecimiento o explosión del gradiente.\n",
        "   - **FNN:** Tienen una arquitectura más simple y directa con conexiones unidireccionales entre las capas. Son más fáciles de entrenar y entender.\n",
        "\n",
        "5. **Número de parámetros:**\n",
        "   - **RNN:** Suelen tener menos parámetros que las FNN ya que comparten pesos entre las etapas temporales. Esto las hace más eficientes en términos de memoria para tratar con secuencias largas.\n",
        "   - **FNN:** Pueden tener un número mayor de parámetros ya que no comparten pesos entre las capas. Esto puede hacer que tengan un mayor requerimiento de memoria y sean más propensas al sobreajuste.\n",
        "\n",
        "En resumen, las RNN y las FNN son adecuadas para diferentes tipos de problemas de aprendizaje automático. Las RNN son más adecuadas para trabajar con datos secuenciales donde hay dependencias temporales, mientras que las FNN son más adecuadas para trabajar con datos no secuenciales donde no hay dependencias temporales."
      ],
      "metadata": {
        "id": "YtDb43zKdrNZ"
      }
    },
    {
      "cell_type": "markdown",
      "source": [
        "predictor de precios de inmuebles segun sus caracteristicas"
      ],
      "metadata": {
        "id": "n4bHn7tD9vg4"
      }
    },
    {
      "cell_type": "code",
      "source": [
        "idea para los alumnos, que puedan evaluar y portar el codigo con datos de las apis de inmuebles de su zona\n",
        "\n",
        "por ej,\n",
        "https://developers.mercadolibre.com.ar/es_ar/ubicacion-y-monedas#close"
      ],
      "metadata": {
        "colab": {
          "base_uri": "https://localhost:8080/",
          "height": 161
        },
        "id": "RK36G6SF91k3",
        "outputId": "33ef4888-1f5b-4099-a98a-86f8b93540a2"
      },
      "execution_count": null,
      "outputs": [
        {
          "output_type": "error",
          "ename": "SyntaxError",
          "evalue": "ignored",
          "traceback": [
            "\u001b[0;36m  File \u001b[0;32m\"<ipython-input-1-5b41e116aaf7>\"\u001b[0;36m, line \u001b[0;32m1\u001b[0m\n\u001b[0;31m    idea para los alumnos, que puedan evaluar y portar el codigo con datos de las apis de inmuebles de su zona\u001b[0m\n\u001b[0m         ^\u001b[0m\n\u001b[0;31mSyntaxError\u001b[0m\u001b[0;31m:\u001b[0m invalid syntax\n"
          ]
        }
      ]
    },
    {
      "cell_type": "code",
      "source": [],
      "metadata": {
        "id": "7hMytQD--AT8"
      },
      "execution_count": null,
      "outputs": []
    },
    {
      "cell_type": "markdown",
      "source": [],
      "metadata": {
        "id": "9LEbAXzb-TCb"
      }
    },
    {
      "cell_type": "code",
      "source": [
        "!pip install scikit-learn"
      ],
      "metadata": {
        "colab": {
          "base_uri": "https://localhost:8080/"
        },
        "id": "8RIp7O_3-evT",
        "outputId": "3641e693-54d7-4bb2-aabd-e998a0713d9e"
      },
      "execution_count": null,
      "outputs": [
        {
          "output_type": "stream",
          "name": "stdout",
          "text": [
            "Requirement already satisfied: scikit-learn in /usr/local/lib/python3.10/dist-packages (1.2.2)\n",
            "Requirement already satisfied: numpy>=1.17.3 in /usr/local/lib/python3.10/dist-packages (from scikit-learn) (1.23.5)\n",
            "Requirement already satisfied: scipy>=1.3.2 in /usr/local/lib/python3.10/dist-packages (from scikit-learn) (1.10.1)\n",
            "Requirement already satisfied: joblib>=1.1.1 in /usr/local/lib/python3.10/dist-packages (from scikit-learn) (1.3.2)\n",
            "Requirement already satisfied: threadpoolctl>=2.0.0 in /usr/local/lib/python3.10/dist-packages (from scikit-learn) (3.2.0)\n"
          ]
        }
      ]
    },
    {
      "cell_type": "code",
      "source": [
        "from sklearn.datasets import fetch_california_housing\n",
        "from sklearn.model_selection import train_test_split\n",
        "from sklearn.preprocessing import StandardScaler\n",
        "import tensorflow as tf\n",
        "from tensorflow import keras\n",
        "\n",
        "# Cargamos el conjunto de datos de precios de viviendas de California\n",
        "california = fetch_california_housing()\n",
        "X = california.data\n",
        "Y = california.target\n",
        "\n",
        "# Dividimos el conjunto de datos en conjuntos de entrenamiento y prueba\n",
        "X_train, X_test, Y_train, Y_test = train_test_split(X, Y, test_size=0.2, random_state=42)\n",
        "\n",
        "# Escalamos las características a una media de 0 y una desviación estándar de 1\n",
        "scaler = StandardScaler()\n",
        "X_train = scaler.fit_transform(X_train)\n",
        "X_test = scaler.transform(X_test)\n",
        "\n",
        "# Creamos una FNN\n",
        "model = keras.Sequential([\n",
        "    keras.layers.Dense(64, activation='relu', input_shape=(X_train.shape[1],)),\n",
        "    keras.layers.Dense(32, activation='relu'),\n",
        "    keras.layers.Dense(1)  # Sin función de activación para regresión\n",
        "])\n",
        "\n",
        "# Compilamos el modelo\n",
        "model.compile(optimizer='adam', loss='mse')  # Usamos el error cuadrático medio (MSE) para regresión\n",
        "\n",
        "# Entrenamos el modelo\n",
        "model.fit(X_train, Y_train, epochs=50)\n",
        "\n",
        "# Evaluamos el modelo\n",
        "loss = model.evaluate(X_test, Y_test)\n",
        "print(\"Loss:\", loss)\n"
      ],
      "metadata": {
        "id": "i3st4s6W-Szm"
      },
      "execution_count": null,
      "outputs": []
    },
    {
      "cell_type": "code",
      "source": [
        "# Supongamos que tienes las siguientes características de 3 viviendas diferentes:\n",
        "# - MedIncome, HouseAge, AveRooms, AveBedrms, Population, AveOccup, Latitude, Longitude\n",
        "new_homes = [\n",
        "    [10.3252, 11.0, 7.9841, 1.0238, 322.0, 2.5556, 37.88, -122.23],  # Vivienda 1\n",
        "    [7.2574, 52.0, 8.2881, 1.0738, 240.0, 2.1098, 37.86, -122.22],  # Vivienda 2\n",
        "    [5.6431, 52.0, 5.8172, 1.0738, 496.0, 2.8026, 37.85, -122.24]   # Vivienda 3\n",
        "]\n",
        "\n",
        "# Escalamos las características de las nuevas viviendas utilizando el mismo escalador que usamos para los datos de entrenamiento\n",
        "new_homes_scaled = scaler.transform(new_homes)\n",
        "\n",
        "# Hacemos predicciones con el modelo entrenado\n",
        "predicted_prices = model.predict(new_homes_scaled)\n",
        "\n",
        "# Imprimimos las predicciones\n",
        "for i, price in enumerate(predicted_prices):\n",
        "    print(f\"Vivienda {i+1}: Precio estimado: ${price[0] * 100000:.2f}\")\n"
      ],
      "metadata": {
        "colab": {
          "base_uri": "https://localhost:8080/"
        },
        "id": "2AJGwkwRBGwy",
        "outputId": "6b591358-10f5-45d7-a06d-c424afd29136"
      },
      "execution_count": null,
      "outputs": [
        {
          "output_type": "stream",
          "name": "stdout",
          "text": [
            "1/1 [==============================] - 0s 31ms/step\n",
            "Vivienda 1: Precio estimado: $537428.00\n",
            "Vivienda 2: Precio estimado: $470348.74\n",
            "Vivienda 3: Precio estimado: $258517.17\n"
          ]
        }
      ]
    },
    {
      "cell_type": "code",
      "source": [
        "len(X)"
      ],
      "metadata": {
        "id": "uunk9citBHLY",
        "colab": {
          "base_uri": "https://localhost:8080/"
        },
        "outputId": "3f0efeb0-d3ff-4b17-b3f0-e9effb0c90bc"
      },
      "execution_count": null,
      "outputs": [
        {
          "output_type": "execute_result",
          "data": {
            "text/plain": [
              "20640"
            ]
          },
          "metadata": {},
          "execution_count": 41
        }
      ]
    },
    {
      "cell_type": "markdown",
      "source": [
        "enteniendo los datos\n",
        "Los valores de las viviendas en el ejemplo se representan mediante características numéricas, que representan información sobre cada vivienda. Aquí está lo que representan cada una de las características:\n",
        "\n",
        "1. **MedIncome:** Ingreso medio del vecindario donde se encuentra la vivienda (en decenas de miles de dólares).\n",
        "2. **HouseAge:** Edad de la vivienda (en años).\n",
        "3. **AveRooms:** Número promedio de habitaciones por vivienda en el vecindario.\n",
        "4. **AveBedrms:** Número promedio de dormitorios por vivienda en el vecindario.\n",
        "5. **Population:** Población total del vecindario.\n",
        "6. **AveOccup:** Ocupación promedio de las viviendas en el vecindario (número de personas por vivienda).\n",
        "7. **Latitude:** Latitud de la vivienda.\n",
        "8. **Longitude:** Longitud de la vivienda.\n",
        "\n",
        "Por ejemplo, consideremos los datos de la primera vivienda en el ejemplo:\n",
        "\n",
        "```\n",
        "[8.3252, 41.0, 6.9841, 1.0238, 322.0, 2.5556, 37.88, -122.23]\n",
        "```\n",
        "\n",
        "Esto se interpretaría como:\n",
        "\n",
        "- La renta media en el vecindario es de aproximadamente $83,252 (8.3252 * 10,000).\n",
        "- La vivienda tiene 41 años de antigüedad.\n",
        "- El número promedio de habitaciones por vivienda en el vecindario es de aproximadamente 6.98.\n",
        "- El número promedio de dormitorios por vivienda en el vecindario es de aproximadamente 1.02.\n",
        "- La población total del vecindario es de 322 personas.\n",
        "- La ocupación promedio de las viviendas en el vecindario es de aproximadamente 2.56 personas por vivienda.\n",
        "- La vivienda se encuentra en la latitud 37.88 y longitud -122.23.\n",
        "\n",
        "Estos valores se utilizan como entrada para el modelo de red neuronal, que luego hace una predicción del precio de la vivienda en función de estas características."
      ],
      "metadata": {
        "id": "2PgOs4vUBoPK"
      }
    },
    {
      "cell_type": "code",
      "source": [
        "# Características de 5 viviendas diferentes:\n",
        "# - MedIncome, HouseAge, AveRooms, AveBedrms, Population, AveOccup, Latitude, Longitude\n",
        "\n",
        "new_homes = [\n",
        "    [4.6250, 34.0, 5.0373, 0.9755, 558.0, 2.3008, 33.64, -117.91], # Vivienda 4\n",
        "    [3.1200, 24.0, 4.7857, 1.0811, 835.0, 2.6686, 34.14, -117.91], # Vivienda 5\n",
        "    [5.7400, 30.0, 6.1351, 0.9787, 570.0, 2.7681, 36.78, -119.80], # Vivienda 6\n",
        "    [2.0804, 26.0, 4.1739, 1.0435, 694.0, 3.0145, 33.92, -118.34], # Vivienda 7\n",
        "    [3.5542, 52.0, 5.3043, 1.0217, 331.0, 2.7174, 37.76, -122.24]  # Vivienda 8\n",
        "]\n",
        "\n",
        "# Escalamos las características de las nuevas viviendas utilizando el mismo escalador que usamos para los datos de entrenamiento\n",
        "new_homes_scaled = scaler.transform(new_homes)\n",
        "\n",
        "# Hacemos predicciones con el modelo entrenado\n",
        "predicted_prices = model.predict(new_homes_scaled)\n",
        "\n",
        "# Imprimimos las predicciones\n",
        "for i, price in enumerate(predicted_prices):\n",
        "    print(f\"Vivienda {i+4}: Precio estimado: ${price[0] * 100000:.2f}\")\n"
      ],
      "metadata": {
        "colab": {
          "base_uri": "https://localhost:8080/"
        },
        "id": "vGWnU6YfCJgl",
        "outputId": "66739fb6-bff5-4c2b-dac6-42ee8ed958a8"
      },
      "execution_count": null,
      "outputs": [
        {
          "output_type": "stream",
          "name": "stdout",
          "text": [
            "1/1 [==============================] - 0s 75ms/step\n",
            "Vivienda 4: Precio estimado: $254958.77\n",
            "Vivienda 5: Precio estimado: $156365.37\n",
            "Vivienda 6: Precio estimado: $130479.97\n",
            "Vivienda 7: Precio estimado: $178304.33\n",
            "Vivienda 8: Precio estimado: $187698.81\n"
          ]
        }
      ]
    },
    {
      "cell_type": "code",
      "source": [],
      "metadata": {
        "id": "YWtgsHIUDFJk"
      },
      "execution_count": null,
      "outputs": []
    },
    {
      "cell_type": "markdown",
      "source": [
        "RNN y analisis de sentimientos"
      ],
      "metadata": {
        "id": "VjBtIDitFUW7"
      }
    },
    {
      "cell_type": "code",
      "source": [
        "import tensorflow as tf\n",
        "from tensorflow import keras\n",
        "from tensorflow.keras.datasets import imdb\n",
        "from tensorflow.keras.preprocessing.sequence import pad_sequences\n",
        "\n",
        "# Parámetros\n",
        "max_words = 20000 # Número máximo de palabras en el vocabulario\n",
        "max_length = 80 # Máxima longitud de la secuencia de entrada\n",
        "\n",
        "# Cargamos los datos\n",
        "(x_train, y_train), (x_test, y_test) = imdb.load_data(num_words=max_words)\n",
        "\n",
        "# Ajustamos la longitud de las secuencias de entrada\n",
        "x_train = pad_sequences(x_train, maxlen=max_length)\n",
        "x_test = pad_sequences(x_test, maxlen=max_length)\n",
        "\n",
        "# Creamos el modelo\n",
        "model = keras.Sequential([\n",
        "    keras.layers.Embedding(input_dim=max_words, output_dim=128),\n",
        "    keras.layers.LSTM(128, dropout=0.2, recurrent_dropout=0.2),\n",
        "    keras.layers.Dense(1, activation='sigmoid')\n",
        "])\n",
        "\n",
        "# Compilamos el modelo\n",
        "model.compile(optimizer='adam',\n",
        "              loss='binary_crossentropy',\n",
        "              metrics=['accuracy'])\n",
        "\n",
        "# Entrenamos el modelo\n",
        "model.fit(x_train, y_train,\n",
        "          batch_size=32,\n",
        "          epochs=5,\n",
        "          validation_data=(x_test, y_test))\n",
        "\n",
        "# Evaluamos el modelo\n",
        "loss, accuracy = model.evaluate(x_test, y_test)\n",
        "print(f'Loss: {loss:.4f}, Accuracy: {accuracy:.4f}')\n"
      ],
      "metadata": {
        "id": "jlqkYRjgFXKX"
      },
      "execution_count": null,
      "outputs": []
    },
    {
      "cell_type": "code",
      "source": [
        "https://developers.mercadolibre.com.ar/es_ar/api-docs-es"
      ],
      "metadata": {
        "id": "fJeD1ZCsFn5C"
      },
      "execution_count": null,
      "outputs": []
    }
  ]
}