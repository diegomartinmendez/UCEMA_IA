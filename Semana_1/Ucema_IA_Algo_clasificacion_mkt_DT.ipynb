{
  "cells": [
    {
      "cell_type": "markdown",
      "id": "077b22a5-a8c4-433f-b3cb-1f167ac827d5",
      "metadata": {
        "id": "077b22a5-a8c4-433f-b3cb-1f167ac827d5"
      },
      "source": [
        "# Imports"
      ]
    },
    {
      "cell_type": "code",
      "execution_count": null,
      "id": "f562d77d-5c60-40fb-81d5-f8b0298babef",
      "metadata": {
        "id": "f562d77d-5c60-40fb-81d5-f8b0298babef"
      },
      "outputs": [],
      "source": [
        "import yfinance as yf, numpy as np, pandas as pd\n",
        "from sklearn.tree import DecisionTreeClassifier\n",
        "from sklearn.ensemble import RandomForestClassifier\n",
        "from sklearn.metrics import confusion_matrix, ConfusionMatrixDisplay\n",
        "import math"
      ]
    },
    {
      "cell_type": "markdown",
      "id": "ab73d9b6-7530-4788-b62b-60bf27d07674",
      "metadata": {
        "id": "ab73d9b6-7530-4788-b62b-60bf27d07674"
      },
      "source": [
        "# Recoleccion de datos"
      ]
    },
    {
      "cell_type": "code",
      "execution_count": null,
      "id": "6846568e-9d7a-47dd-8205-572f34df52e8",
      "metadata": {
        "colab": {
          "base_uri": "https://localhost:8080/"
        },
        "id": "6846568e-9d7a-47dd-8205-572f34df52e8",
        "outputId": "7f8b6332-f4b8-4a80-a0c3-0f230e9f3013"
      },
      "outputs": [
        {
          "output_type": "stream",
          "name": "stdout",
          "text": [
            "[*********************100%%**********************]  86 of 86 completed\n",
            "[*********************100%%**********************]  1 of 1 completed\n",
            "[*********************100%%**********************]  1 of 1 completed\n"
          ]
        },
        {
          "output_type": "execute_result",
          "data": {
            "text/plain": [
              "(388342, 55384)"
            ]
          },
          "metadata": {},
          "execution_count": 2
        }
      ],
      "source": [
        "smas = ((30, 100), (50, 200), (70, 300))\n",
        "ventana = 250  # Es la ventana a partir de que rueda quiero predecir si el rendimiento va a estar por encima o debajo de algun umbral\n",
        "\n",
        "# Me baso en un set inicial de tickers (100% arbitrario, para partir de algo)\n",
        "tickers = ['LMT', 'SO', 'BAC', 'ABT', 'IBM', 'MCD', 'TMO', 'WFC', 'COST', 'TSLA', 'NFLX', 'BA', 'AMAT', 'UNH',\n",
        "           'EXC', 'T', 'C', 'GD', 'SPG', 'INTU', 'AXP', 'GE', 'HD', 'CVX', 'DHR', 'LUV', 'TXN', 'LLY', 'SBUX',\n",
        "           'CVS', 'TGT', 'PEP', 'GOOGL', 'HON', 'JPM', 'QCOM', 'CMCSA', 'VZ', 'FDX', 'PG', 'NEM', 'AAPL', 'LOW',\n",
        "           'DIS', 'SLB', 'PM', 'CSX', 'KO', 'GS', 'MET', 'NSC', 'AMGN', 'MMM', 'META', 'JNJ', 'AMZN', 'INTC', 'V',\n",
        "           'NEE', 'WMT', 'CSCO', 'GM', 'COP', 'CAT', 'ADBE', 'ORCL', 'CME', 'PFE', 'OXY', 'MA', 'MSFT', 'UPS',\n",
        "           'ADP', 'MS', 'CRM', 'UNP', 'MO', 'EMR', 'NVDA', 'GILD', 'BMY', 'ABBV', 'NKE', 'XOM', 'MRK', 'MDLZ']\n",
        "\n",
        "df = yf.download(tickers, start='2000-01-01',auto_adjust=True)\n",
        "spy = yf.download('SPY', start='2000-01-01', auto_adjust=True)\n",
        "vix = yf.download('^VIX', start='2000-01-01', auto_adjust=True)\n",
        "\n",
        "dfs_train, dfs_test = [], []\n",
        "for ticker in tickers:\n",
        "    data = df['Close'][ticker].to_frame()\n",
        "    data.columns = ['Close']\n",
        "    dif = data['Close'].diff()\n",
        "    RSI_CONS = 50\n",
        "    win = pd.DataFrame(np.where(dif > 0, dif, 0))\n",
        "    loss = pd.DataFrame(np.where(dif < 0, abs(dif), 0))\n",
        "    ema_win = win.ewm(alpha=1/RSI_CONS).mean()\n",
        "    ema_loss = loss.ewm(alpha=1/RSI_CONS).mean()\n",
        "    rs = ema_win / ema_loss\n",
        "    rsi = 100 - (100 / (1 + rs))\n",
        "    rsi.index = data.index\n",
        "\n",
        "    data['pctChange'] = data['Close'].pct_change()\n",
        "    data['fw'] = data['Close'].shift(-ventana)/data['Close']-1\n",
        "    data[f'RSI_{RSI_CONS}'] = rsi/100\n",
        "    v = data['pctChange'].rolling(50).std() * 50**0.5\n",
        "    data['volatilidad_zs'] = (v - v.rolling(50).mean()) / v.rolling(50).std()\n",
        "    data['volatilidad_vix'] = v / vix.Close\n",
        "    data['vix'] = vix.Close\n",
        "\n",
        "    spy_zs_slow = (spy.Close - spy.Close.rolling(80).mean()) / spy.Close.rolling(80).std()\n",
        "    spy_zs_fast = (spy.Close - spy.Close.rolling(40).mean()) / spy.Close.rolling(40).std()\n",
        "\n",
        "    data['SP500_Zscore_fast'] = spy_zs_fast\n",
        "    data['SP500_Zscore_slow'] = spy_zs_slow\n",
        "    data['SP500_rel'] = spy_zs_slow / spy_zs_fast\n",
        "\n",
        "    data['sma_volatilidad'] = data['pctChange'].rolling(50).std() * 50**0.5\n",
        "    data['ema_volatilidad'] = data['pctChange'].ewm(span=40).std() * 40**0.5\n",
        "    data['SPY_Corr'] = data.Close.pct_change().rolling(40).corr(spy.Close.pct_change())\n",
        "    c1 = f'cruce_{smas[0][0]}_{smas[0][1]}'\n",
        "    c2 = f'cruce_{smas[1][0]}_{smas[1][1]}'\n",
        "    c3 = f'cruce_{smas[2][0]}_{smas[2][1]}'\n",
        "    data[c1] = data['Close'].rolling(smas[0][0]).mean()/data['Close'].rolling(smas[0][1]).mean()-1\n",
        "    data[c2] = data['Close'].rolling(smas[1][0]).mean()/data['Close'].rolling(smas[1][1]).mean()-1\n",
        "    data[c3] = data['Close'].rolling(smas[2][0]).mean()/data['Close'].rolling(smas[2][1]).mean()-1\n",
        "    # Uso el 85% de la serie para entrenar y solo el 15% para validar (asi es mas robusto)\n",
        "    qtrain = int(len(data)*0.85)\n",
        "    dfs_train.append(data.reset_index(drop=True).iloc[:qtrain])\n",
        "    dfs_test.append(data.reset_index(drop=True).iloc[qtrain:])\n",
        "\n",
        "data_train = pd.concat(dfs_train).reset_index(drop=True)\n",
        "data_test = pd.concat(dfs_test).reset_index(drop=True)\n",
        "len(data_train.dropna()), len(data_test.dropna())"
      ]
    },
    {
      "cell_type": "markdown",
      "id": "f835686b-e6cb-441d-af34-4e6122cf9786",
      "metadata": {
        "id": "f835686b-e6cb-441d-af34-4e6122cf9786"
      },
      "source": [
        "# Matriz de Diseño"
      ]
    },
    {
      "cell_type": "raw",
      "id": "bbe0b18a-0178-4844-97bc-902849b66505",
      "metadata": {
        "id": "bbe0b18a-0178-4844-97bc-902849b66505"
      },
      "source": [
        "Por diseño del clasificador voy a decir que mi target es un fw>14%"
      ]
    },
    {
      "cell_type": "code",
      "source": [
        "data_train.fw.median()"
      ],
      "metadata": {
        "colab": {
          "base_uri": "https://localhost:8080/"
        },
        "id": "zr6w0tz2r8XA",
        "outputId": "036c3ebc-2c5a-49b3-c2f1-8c0e86bb5c29"
      },
      "id": "zr6w0tz2r8XA",
      "execution_count": null,
      "outputs": [
        {
          "output_type": "execute_result",
          "data": {
            "text/plain": [
              "0.12438885200408634"
            ]
          },
          "metadata": {},
          "execution_count": 4
        }
      ]
    },
    {
      "cell_type": "code",
      "execution_count": null,
      "id": "57508fe7-fbae-45ac-9616-9c3c7e1db7b4",
      "metadata": {
        "id": "57508fe7-fbae-45ac-9616-9c3c7e1db7b4"
      },
      "outputs": [],
      "source": [
        "data_train['target'] = 0\n",
        "data_train.loc[data_train.fw >= 0.14 , 'target'] = 1\n",
        "data_train.dropna(inplace=True)\n",
        "\n",
        "data_test['target'] = 0\n",
        "data_test.loc[data_test.fw >= 0.14 , 'target'] = 1\n",
        "\n",
        "data_test_full = data_test.copy()\n",
        "data_test.dropna(inplace=True)\n",
        "\n",
        "features = 13\n",
        "\n",
        "X_train, X_test = data_train.iloc[:,-(features+1):-1], data_test.iloc[:,-(features+1):-1]\n",
        "y_train, y_test = data_train.iloc[:,-1], data_test.iloc[:,-1]"
      ]
    },
    {
      "cell_type": "code",
      "execution_count": null,
      "id": "0fb8c856-a74b-44d2-b240-d94801c3682a",
      "metadata": {
        "colab": {
          "base_uri": "https://localhost:8080/"
        },
        "id": "0fb8c856-a74b-44d2-b240-d94801c3682a",
        "outputId": "99277621-bc56-4553-b87f-48ab133d59b2"
      },
      "outputs": [
        {
          "output_type": "execute_result",
          "data": {
            "text/plain": [
              "target\n",
              "0    203120\n",
              "1    185222\n",
              "dtype: int64"
            ]
          },
          "metadata": {},
          "execution_count": 10
        }
      ],
      "source": [
        "y_train.to_frame().groupby('target').size()"
      ]
    },
    {
      "cell_type": "code",
      "source": [
        "y_test.to_frame().groupby('target').size()"
      ],
      "metadata": {
        "colab": {
          "base_uri": "https://localhost:8080/"
        },
        "id": "5uh97Iypun0U",
        "outputId": "87a44186-2831-41ec-d410-eb7d1cbdac6e"
      },
      "id": "5uh97Iypun0U",
      "execution_count": null,
      "outputs": [
        {
          "output_type": "execute_result",
          "data": {
            "text/plain": [
              "target\n",
              "0    29671\n",
              "1    25713\n",
              "dtype: int64"
            ]
          },
          "metadata": {},
          "execution_count": 11
        }
      ]
    },
    {
      "cell_type": "markdown",
      "id": "4a19ca97-9992-4f41-a553-685d4eae9fc8",
      "metadata": {
        "tags": [],
        "id": "4a19ca97-9992-4f41-a553-685d4eae9fc8"
      },
      "source": [
        "# Fit y test"
      ]
    },
    {
      "cell_type": "code",
      "execution_count": null,
      "id": "912712e9-08f3-457e-9ff4-9415efcc1534",
      "metadata": {
        "colab": {
          "base_uri": "https://localhost:8080/"
        },
        "id": "912712e9-08f3-457e-9ff4-9415efcc1534",
        "outputId": "f3459044-e5ed-43b1-8c12-0112c9897247"
      },
      "outputs": [
        {
          "output_type": "stream",
          "name": "stdout",
          "text": [
            "CPU times: user 12.1 s, sys: 28.2 ms, total: 12.1 s\n",
            "Wall time: 12.2 s\n"
          ]
        },
        {
          "output_type": "display_data",
          "data": {
            "text/plain": [
              "<Figure size 640x480 with 2 Axes>"
            ],
            "image/png": "[encoded data removed]"
          },
          "metadata": {}
        }
      ],
      "source": [
        "%%time\n",
        "\n",
        "# Pedimos que cada nodo tenga al menos 30 datos\n",
        "levels = int(math.log((len(X_train)/30),2))\n",
        "\n",
        "modelo = DecisionTreeClassifier(criterion = 'entropy', max_depth=levels, random_state=1)\n",
        "modelo.fit(X_train, y_train)\n",
        "y_pred = modelo.predict(X_test)\n",
        "\n",
        "disp = ConfusionMatrixDisplay.from_estimator(modelo, X_test.dropna(), y_test.dropna(), normalize='pred',\n",
        "                                             display_labels=['No sube +14%','Sube +14%'], cmap='Blues')\n",
        "\n",
        "\n",
        "m = disp.confusion_matrix"
      ]
    },
    {
      "cell_type": "raw",
      "id": "49f64250-e200-43e4-9927-2ca542d42760",
      "metadata": {
        "id": "49f64250-e200-43e4-9927-2ca542d42760"
      },
      "source": [
        "Como ven 55% a 45% en los positivos no me dice gran cosa\n",
        "\n",
        "59% a 41% en las predicciones negativas tampoco\n",
        "\n",
        "Pero veremos que ese simple alpha combinado me puede dar un diferencial en un proxy de CAGR interesante"
      ]
    },
    {
      "cell_type": "raw",
      "id": "39237ef4-d819-476d-a074-dfb79999bb85",
      "metadata": {
        "id": "39237ef4-d819-476d-a074-dfb79999bb85"
      },
      "source": [
        "O sea que si solo compro cuando me da positivo, tengo un 56% de probabilidades de ganar un 14%\n",
        "\n",
        "La pregunta seria cual es la probabilidad de perder mas de un 14% cuando predice que sube mas de un 14%\n",
        "\n",
        "De esta forma puedo inferir si el modelo conviene o no?"
      ]
    },
    {
      "cell_type": "markdown",
      "id": "f39dd573-0389-45f6-a2fb-d6f20ed4f04a",
      "metadata": {
        "id": "f39dd573-0389-45f6-a2fb-d6f20ed4f04a"
      },
      "source": [
        "## Analizamos target -14%"
      ]
    },
    {
      "cell_type": "code",
      "execution_count": null,
      "id": "d567fad5-a53a-47c1-b158-94a24c5cae96",
      "metadata": {
        "colab": {
          "base_uri": "https://localhost:8080/",
          "height": 449
        },
        "id": "d567fad5-a53a-47c1-b158-94a24c5cae96",
        "outputId": "1313c81e-0dbc-4f0a-a666-fcc0bb65cf21"
      },
      "outputs": [
        {
          "output_type": "display_data",
          "data": {
            "text/plain": [
              "<Figure size 640x480 with 2 Axes>"
            ],
            "image/png": "[encoded data removed]"
          },
          "metadata": {}
        }
      ],
      "source": [
        "# ejemplo que pasa en la simetrica para abajo?\n",
        "NUEVO_TARGET = -0.14\n",
        "\n",
        "data_test_alt = data_test.copy()\n",
        "data_test_alt['target'] = 0\n",
        "data_test_alt.loc[data_test_alt.fw >= NUEVO_TARGET , 'target'] = 1\n",
        "y_test_alt =  data_test_alt.iloc[:,-1]\n",
        "\n",
        "# Como el modelo entrenado es el mismo, solo evaluo con el criterio diferente del target\n",
        "\n",
        "disp = ConfusionMatrixDisplay.from_estimator(modelo, X_test.dropna(), y_test_alt.dropna(), normalize='pred',\n",
        "                                             display_labels=[f'No sube +{NUEVO_TARGET:.0%}',\n",
        "                                                            f'Sube +{NUEVO_TARGET:.0%}%'],\n",
        "                                             cmap='Blues')\n",
        "\n",
        "\n",
        "m = disp.confusion_matrix"
      ]
    },
    {
      "cell_type": "raw",
      "id": "baf19499-078c-48d2-8139-90801ffd832c",
      "metadata": {
        "id": "baf19499-078c-48d2-8139-90801ffd832c"
      },
      "source": [
        "En el caso del simetrico opuesto, tengo un 13% de probabilidades de perder mas del -14%\n",
        "\n",
        "O sea 56% de chance de ganar mas del 14% y 13% de chance de perder mas del 14%\n",
        "\n",
        "Asumiendo que en el medio se compensa (Proxy muy naive pero simple) queda analizar ambos conjuntos"
      ]
    },
    {
      "cell_type": "code",
      "execution_count": null,
      "id": "7bedc12f-e3fb-4da8-bbc0-39c891e52537",
      "metadata": {
        "id": "7bedc12f-e3fb-4da8-bbc0-39c891e52537"
      },
      "outputs": [],
      "source": []
    },
    {
      "cell_type": "code",
      "execution_count": null,
      "id": "743d9843-01b3-4fdc-8fd7-8a437084a5f4",
      "metadata": {
        "id": "743d9843-01b3-4fdc-8fd7-8a437084a5f4"
      },
      "outputs": [],
      "source": []
    },
    {
      "cell_type": "markdown",
      "id": "7f522a7c-5eba-4992-bd86-082db015890d",
      "metadata": {
        "id": "7f522a7c-5eba-4992-bd86-082db015890d"
      },
      "source": [
        "# Proxy de cálculo Esperanza matematica"
      ]
    },
    {
      "cell_type": "code",
      "execution_count": null,
      "id": "8edf4667-e30f-48f5-9645-3338745c4bb1",
      "metadata": {
        "colab": {
          "base_uri": "https://localhost:8080/"
        },
        "id": "8edf4667-e30f-48f5-9645-3338745c4bb1",
        "outputId": "7767a8fc-c9a4-428e-bca5-cf6a85eb98c6"
      },
      "outputs": [
        {
          "output_type": "execute_result",
          "data": {
            "text/plain": [
              "0.11218605018745142"
            ]
          },
          "metadata": {},
          "execution_count": 12
        }
      ],
      "source": [
        "data_test.fw.median()"
      ]
    },
    {
      "cell_type": "code",
      "execution_count": null,
      "id": "f4996eb5-04ad-41b2-b345-9c875ebba5a1",
      "metadata": {
        "colab": {
          "base_uri": "https://localhost:8080/"
        },
        "id": "f4996eb5-04ad-41b2-b345-9c875ebba5a1",
        "outputId": "b5d95c04-b7aa-48bf-d40f-338caec7ca31"
      },
      "outputs": [
        {
          "output_type": "execute_result",
          "data": {
            "text/plain": [
              "(0.38925072270840827, -0.3200182437690496)"
            ]
          },
          "metadata": {},
          "execution_count": 9
        }
      ],
      "source": [
        "# media de trades ganadores y perdedores (arriba de +14%, abajo de -14%)\n",
        "w_mean = math.log(data_test.loc[data_test.fw>0.14].fw.mean() +1)\n",
        "l_mean = math.log(data_test.loc[data_test.fw<-0.14].fw.mean() +1)\n",
        "\n",
        "w_mean, l_mean"
      ]
    },
    {
      "cell_type": "code",
      "execution_count": null,
      "id": "3e9674cf-c2c9-4a19-81be-792c6bf39273",
      "metadata": {
        "colab": {
          "base_uri": "https://localhost:8080/"
        },
        "id": "3e9674cf-c2c9-4a19-81be-792c6bf39273",
        "outputId": "7b70b9d5-1e7c-4f2f-80f0-cccbd20f3f0e"
      },
      "outputs": [
        {
          "output_type": "execute_result",
          "data": {
            "text/plain": [
              "(0.5468279303988131, 0.13947214603659908)"
            ]
          },
          "metadata": {},
          "execution_count": 10
        }
      ],
      "source": [
        "# Calculo % de trades positivos (arriba de +11%) y negativos (abajo de -11%)\n",
        "\n",
        "# Uso una funcion para recalcular los y de validacion en funcion del target\n",
        "def getTestAlt(TARGET):\n",
        "    data_test_alt = data_test.copy()\n",
        "    data_test_alt['target'] = 0\n",
        "    data_test_alt.loc[data_test_alt.fw >= TARGET , 'target'] = 1\n",
        "    y_test_alt =  data_test_alt.iloc[:,-1]\n",
        "    return y_test_alt\n",
        "\n",
        "# Uso la matriz de confusion para calcular la probabilidad de acertar o fallar\n",
        "m_arriba_11 = np.array(confusion_matrix(getTestAlt(0.14), y_pred, normalize='pred'))\n",
        "win_q = m_arriba_11[1][1]\n",
        "\n",
        "m_abajo_11 = np.array(confusion_matrix(getTestAlt(-0.14), y_pred, normalize='pred'))\n",
        "loss_q = m_abajo_11[0][1]\n",
        "\n",
        "win_q, loss_q"
      ]
    },
    {
      "cell_type": "code",
      "execution_count": null,
      "id": "c9e65227-6d00-4932-ae23-6b9420815866",
      "metadata": {
        "colab": {
          "base_uri": "https://localhost:8080/"
        },
        "id": "c9e65227-6d00-4932-ae23-6b9420815866",
        "outputId": "8be89383-d05a-4c79-89b6-1f1fc938d855"
      },
      "outputs": [
        {
          "output_type": "execute_result",
          "data": {
            "text/plain": [
              "(0.7967767295597484, 0.20322327044025157)"
            ]
          },
          "metadata": {},
          "execution_count": 11
        }
      ],
      "source": [
        "# normalizo las probabilidades al 100%\n",
        "# estoy descartando todos los trades entre -11% y 11% porque asumo que se compensan\n",
        "\n",
        "win_perc, loss_perc = win_q/(win_q+loss_q), loss_q/(win_q+loss_q)\n",
        "win_perc, loss_perc"
      ]
    },
    {
      "cell_type": "code",
      "execution_count": null,
      "id": "6f02ee54-db39-4525-b160-4b819f826441",
      "metadata": {
        "colab": {
          "base_uri": "https://localhost:8080/"
        },
        "id": "6f02ee54-db39-4525-b160-4b819f826441",
        "outputId": "6d1f3d14-5c87-4690-ba46-b06c3ba14ca0"
      },
      "outputs": [
        {
          "output_type": "execute_result",
          "data": {
            "text/plain": [
              "0.2777628351307184"
            ]
          },
          "metadata": {},
          "execution_count": 12
        }
      ],
      "source": [
        "# Esperanza matematica\n",
        "\n",
        "E = math.e** (w_mean * win_perc + l_mean * loss_perc) - 1\n",
        "E"
      ]
    },
    {
      "cell_type": "raw",
      "id": "436ee682-e08f-4f39-a60c-f4a8872d583b",
      "metadata": {
        "id": "436ee682-e08f-4f39-a60c-f4a8872d583b"
      },
      "source": [
        "O sea un proxy del CAGR 29% vs 11.6% del set de validacion, alpha del 17% casi\n",
        "\n",
        "Comparo con el set de validacion porque es sobre el cual tomo los conjuntas de probas >+14% y <-14%"
      ]
    },
    {
      "cell_type": "code",
      "execution_count": null,
      "id": "38244508-d3b4-492f-b03f-a694cdfef6c0",
      "metadata": {
        "id": "38244508-d3b4-492f-b03f-a694cdfef6c0"
      },
      "outputs": [],
      "source": []
    },
    {
      "cell_type": "code",
      "execution_count": null,
      "id": "a1e068e9-fb8c-4da3-9cbb-0f1f32fe688f",
      "metadata": {
        "id": "a1e068e9-fb8c-4da3-9cbb-0f1f32fe688f"
      },
      "outputs": [],
      "source": []
    }
  ],
  "metadata": {
    "kernelspec": {
      "display_name": "Python 3 (ipykernel)",
      "language": "python",
      "name": "python3"
    },
    "language_info": {
      "codemirror_mode": {
        "name": "ipython",
        "version": 3
      },
      "file_extension": ".py",
      "mimetype": "text/x-python",
      "name": "python",
      "nbconvert_exporter": "python",
      "pygments_lexer": "ipython3",
      "version": "3.9.12"
    },
    "colab": {
      "provenance": []
    }
  },
  "nbformat": 4,
  "nbformat_minor": 5
}